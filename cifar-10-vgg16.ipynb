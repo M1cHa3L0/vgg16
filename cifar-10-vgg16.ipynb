{
 "cells": [
  {
   "cell_type": "code",
   "execution_count": null,
   "metadata": {
    "execution": {
     "iopub.execute_input": "2025-03-29T09:48:46.680343Z",
     "iopub.status.busy": "2025-03-29T09:48:46.679990Z",
     "iopub.status.idle": "2025-03-29T09:48:46.685798Z",
     "shell.execute_reply": "2025-03-29T09:48:46.685077Z",
     "shell.execute_reply.started": "2025-03-29T09:48:46.680316Z"
    },
    "trusted": true
   },
   "outputs": [],
   "source": [
    "\"\"\"\n",
    "implement vgg16\n",
    "dataset: cifar-10\n",
    "\"\"\"\n",
    "import torch\n",
    "from torch import nn\n",
    "from torchvision import datasets, transforms\n",
    "from torchvision.transforms import ToTensor\n",
    "from torch.utils.data import dataloader, Subset\n",
    "\n",
    "import numpy as np\n",
    "import matplotlib.pyplot as plt\n",
    "from tqdm.auto import tqdm\n",
    "import pandas as pd\n",
    "from pathlib import Path\n",
    "import os\n",
    "\n",
    "try:\n",
    "   from torchinfo import summary\n",
    "except:\n",
    "    !pip3 install torchinfo\n",
    "    from torchinfo import summary\n"
   ]
  },
  {
   "cell_type": "code",
   "execution_count": 73,
   "metadata": {
    "colab": {
     "base_uri": "https://localhost:8080/",
     "height": 35
    },
    "execution": {
     "iopub.execute_input": "2025-03-29T09:48:46.692869Z",
     "iopub.status.busy": "2025-03-29T09:48:46.692676Z",
     "iopub.status.idle": "2025-03-29T09:48:46.704660Z",
     "shell.execute_reply": "2025-03-29T09:48:46.703856Z",
     "shell.execute_reply.started": "2025-03-29T09:48:46.692852Z"
    },
    "id": "pMMbCYuXB24G",
    "outputId": "c25e54b4-d9a7-4a67-d4db-5b8622667f57",
    "trusted": true
   },
   "outputs": [
    {
     "data": {
      "text/plain": [
       "'cuda'"
      ]
     },
     "execution_count": 73,
     "metadata": {},
     "output_type": "execute_result"
    }
   ],
   "source": [
    "# device agnoistic code\n",
    "device = 'cuda' if torch.cuda.is_available() else 'cpu'\n",
    "torch.backends.cudnn.benchmark = True\n",
    "device\n"
   ]
  },
  {
   "cell_type": "code",
   "execution_count": 74,
   "metadata": {
    "execution": {
     "iopub.execute_input": "2025-03-29T09:48:46.729859Z",
     "iopub.status.busy": "2025-03-29T09:48:46.729644Z",
     "iopub.status.idle": "2025-03-29T09:48:46.733083Z",
     "shell.execute_reply": "2025-03-29T09:48:46.732289Z",
     "shell.execute_reply.started": "2025-03-29T09:48:46.729840Z"
    },
    "id": "rGbX6j3_B24G",
    "trusted": true
   },
   "outputs": [],
   "source": [
    "# hyperparameter\n",
    "BATCH_SIZE = 64\n",
    "EPOCHS = 20\n",
    "NUM_WORKERS = 4"
   ]
  },
  {
   "cell_type": "code",
   "execution_count": 75,
   "metadata": {
    "colab": {
     "base_uri": "https://localhost:8080/"
    },
    "execution": {
     "iopub.execute_input": "2025-03-29T09:48:46.734507Z",
     "iopub.status.busy": "2025-03-29T09:48:46.734207Z",
     "iopub.status.idle": "2025-03-29T09:48:48.372274Z",
     "shell.execute_reply": "2025-03-29T09:48:48.371609Z",
     "shell.execute_reply.started": "2025-03-29T09:48:46.734478Z"
    },
    "id": "0-uRcR1fB24H",
    "outputId": "00eb5e89-ead0-4370-df7b-f48a069288a0",
    "trusted": true
   },
   "outputs": [
    {
     "name": "stdout",
     "output_type": "stream",
     "text": [
      "Files already downloaded and verified\n",
      "Files already downloaded and verified\n"
     ]
    }
   ],
   "source": [
    "# get dataset\n",
    "transform = transforms.Compose([\n",
    "    transforms.Resize(size=(32,32)),\n",
    "    transforms.ToTensor(),\n",
    "    transforms.Normalize(mean=[0.4914, 0.4822, 0.4465], std=[0.2023, 0.1994, 0.2010])\n",
    "])\n",
    "train_data = datasets.CIFAR10(\n",
    "    root='data',\n",
    "    train=True,\n",
    "    transform=transform,\n",
    "    download=True)\n",
    "\n",
    "test_data = datasets.CIFAR10(\n",
    "    root='data',\n",
    "    train=False,\n",
    "    transform=transform,\n",
    "    download=True\n",
    ")"
   ]
  },
  {
   "cell_type": "code",
   "execution_count": 76,
   "metadata": {
    "colab": {
     "base_uri": "https://localhost:8080/"
    },
    "execution": {
     "iopub.execute_input": "2025-03-29T09:48:48.374281Z",
     "iopub.status.busy": "2025-03-29T09:48:48.374049Z",
     "iopub.status.idle": "2025-03-29T09:48:48.379250Z",
     "shell.execute_reply": "2025-03-29T09:48:48.378554Z",
     "shell.execute_reply.started": "2025-03-29T09:48:48.374261Z"
    },
    "id": "6jKTox74B24H",
    "outputId": "fdd0e6dd-10b2-40e1-b6f6-6fc240124367",
    "trusted": true
   },
   "outputs": [
    {
     "data": {
      "text/plain": [
       "10"
      ]
     },
     "execution_count": 76,
     "metadata": {},
     "output_type": "execute_result"
    }
   ],
   "source": [
    "num_classes = len(train_data.classes)\n",
    "num_classes"
   ]
  },
  {
   "cell_type": "code",
   "execution_count": 77,
   "metadata": {
    "colab": {
     "base_uri": "https://localhost:8080/",
     "height": 452
    },
    "execution": {
     "iopub.execute_input": "2025-03-29T09:48:48.380636Z",
     "iopub.status.busy": "2025-03-29T09:48:48.380450Z",
     "iopub.status.idle": "2025-03-29T09:48:48.538701Z",
     "shell.execute_reply": "2025-03-29T09:48:48.538042Z",
     "shell.execute_reply.started": "2025-03-29T09:48:48.380620Z"
    },
    "id": "m84BBiHSB24H",
    "outputId": "6dd83c00-e1db-4bf2-893d-f2638bab3bc8",
    "trusted": true
   },
   "outputs": [
    {
     "data": {
      "text/plain": [
       "(<matplotlib.image.AxesImage at 0x79a0ac657820>,\n",
       " torch.Size([3, 32, 32]),\n",
       " 'truck')"
      ]
     },
     "execution_count": 77,
     "metadata": {},
     "output_type": "execute_result"
    },
    {
     "data": {
      "image/png": "[encoded data removed]",
      "text/plain": [
       "<Figure size 640x480 with 1 Axes>"
      ]
     },
     "metadata": {},
     "output_type": "display_data"
    }
   ],
   "source": [
    "img, label = train_data[1]\n",
    "plt.imshow(img.permute(1,2,0)), img.shape, train_data.classes[label]"
   ]
  },
  {
   "cell_type": "code",
   "execution_count": 78,
   "metadata": {
    "colab": {
     "base_uri": "https://localhost:8080/"
    },
    "execution": {
     "iopub.execute_input": "2025-03-29T09:48:48.539585Z",
     "iopub.status.busy": "2025-03-29T09:48:48.539368Z",
     "iopub.status.idle": "2025-03-29T09:48:48.546726Z",
     "shell.execute_reply": "2025-03-29T09:48:48.545965Z",
     "shell.execute_reply.started": "2025-03-29T09:48:48.539555Z"
    },
    "id": "xmYEt7xZB24I",
    "outputId": "537d7392-135f-4fe3-b8e3-b808aa6859cb",
    "trusted": true
   },
   "outputs": [
    {
     "data": {
      "text/plain": [
       "(torch.Size([3, 32, 32]), 6)"
      ]
     },
     "execution_count": 78,
     "metadata": {},
     "output_type": "execute_result"
    }
   ],
   "source": [
    "# turn dataset into dataloader\n",
    "train_dataloader = dataloader.DataLoader(\n",
    "    dataset=train_data,\n",
    "    batch_size=BATCH_SIZE,\n",
    "    shuffle=True,\n",
    "    num_workers=NUM_WORKERS,\n",
    "    pin_memory=True)\n",
    "test_dataloader = dataloader.DataLoader(\n",
    "    dataset=test_data,\n",
    "    batch_size=BATCH_SIZE,\n",
    "    shuffle=False,\n",
    "    num_workers=NUM_WORKERS,\n",
    "    pin_memory=True)\n",
    "\n",
    "img, label = train_dataloader.dataset[0]\n",
    "img.shape, label"
   ]
  },
  {
   "cell_type": "code",
   "execution_count": 79,
   "metadata": {
    "colab": {
     "base_uri": "https://localhost:8080/"
    },
    "execution": {
     "iopub.execute_input": "2025-03-29T09:48:48.547723Z",
     "iopub.status.busy": "2025-03-29T09:48:48.547539Z",
     "iopub.status.idle": "2025-03-29T09:48:48.790877Z",
     "shell.execute_reply": "2025-03-29T09:48:48.789919Z",
     "shell.execute_reply.started": "2025-03-29T09:48:48.547708Z"
    },
    "id": "uR2zZTu5DaiY",
    "outputId": "d1ceda4b-3486-4891-ff6d-1cd391616c5d",
    "trusted": true
   },
   "outputs": [
    {
     "data": {
      "text/plain": [
       "torch.Size([64, 3, 32, 32])"
      ]
     },
     "execution_count": 79,
     "metadata": {},
     "output_type": "execute_result"
    }
   ],
   "source": [
    "img, label = next(iter(train_dataloader))\n",
    "label.shape, label.dtype\n",
    "img.shape"
   ]
  },
  {
   "cell_type": "code",
   "execution_count": 80,
   "metadata": {
    "execution": {
     "iopub.execute_input": "2025-03-29T09:48:48.792239Z",
     "iopub.status.busy": "2025-03-29T09:48:48.791938Z",
     "iopub.status.idle": "2025-03-29T09:48:48.801046Z",
     "shell.execute_reply": "2025-03-29T09:48:48.800181Z",
     "shell.execute_reply.started": "2025-03-29T09:48:48.792217Z"
    },
    "id": "_Z0aLLiJB24I",
    "trusted": true
   },
   "outputs": [],
   "source": [
    "# build model\n",
    "\"\"\"\n",
    "vgg16 (64-128-256-512 -4096)\n",
    "kernel = 3\n",
    "conv-conv-pool, conv-conv-pool, conv-conv-conv-pool, conv-conv-conv-pool, conv-conv-conv-pool, fc-fc-fc\n",
    "\"\"\"\n",
    "\n",
    "class vgg16(nn.Module):\n",
    "    def __init__(self, input_shape, output_shape):\n",
    "        super().__init__()\n",
    "        # block 1\n",
    "        self.vgg_block = nn.Sequential(\n",
    "            nn.Conv2d(in_channels=input_shape, out_channels=64, kernel_size=3, padding=1),\n",
    "            nn.ReLU(),\n",
    "            nn.Conv2d(in_channels=64, out_channels=64, kernel_size=3, padding=1),\n",
    "            nn.ReLU(),\n",
    "            nn.MaxPool2d(kernel_size=2, stride=2),\n",
    "\n",
    "\n",
    "        # block 2\n",
    "            nn.Conv2d(in_channels=64, out_channels=128, kernel_size=3, padding=1),\n",
    "            nn.ReLU(),\n",
    "            nn.Conv2d(in_channels=128, out_channels=128, kernel_size=3, padding=1),\n",
    "            nn.ReLU(),\n",
    "            nn.MaxPool2d(kernel_size=2, stride=2),\n",
    "\n",
    "\n",
    "        # block 3\n",
    "            nn.Conv2d(in_channels=128, out_channels=256, kernel_size=3, padding=1),\n",
    "            nn.ReLU(),\n",
    "            nn.Conv2d(in_channels=256, out_channels=256, kernel_size=3, padding=1),\n",
    "            nn.ReLU(),\n",
    "            nn.Conv2d(in_channels=256, out_channels=256, kernel_size=3, padding=1),\n",
    "            nn.ReLU(),\n",
    "            nn.MaxPool2d(kernel_size=2, stride=2),\n",
    "\n",
    "\n",
    "        # block 4\n",
    "            nn.Conv2d(in_channels=256, out_channels=512, kernel_size=3, padding=1),\n",
    "            nn.ReLU(),\n",
    "            nn.Conv2d(in_channels=512, out_channels=512, kernel_size=3, padding=1),\n",
    "            nn.ReLU(),\n",
    "            nn.Conv2d(in_channels=512, out_channels=512, kernel_size=3, padding=1),\n",
    "            nn.ReLU(),\n",
    "            nn.MaxPool2d(kernel_size=2, stride=2),\n",
    "\n",
    "\n",
    "        # block 5\n",
    "            nn.Conv2d(in_channels=512, out_channels=512, kernel_size=3, padding=1),\n",
    "            nn.ReLU(),\n",
    "            nn.Conv2d(in_channels=512, out_channels=512, kernel_size=3, padding=1),\n",
    "            nn.ReLU(),\n",
    "            nn.Conv2d(in_channels=512, out_channels=512, kernel_size=3, padding=1),\n",
    "            nn.ReLU(),\n",
    "            nn.MaxPool2d(kernel_size=2, stride=2)\n",
    "            )\n",
    "\n",
    "        # fully connect\n",
    "        self.vgg_classifier = nn.Sequential(\n",
    "            nn.Dropout(0.6),\n",
    "            nn.Flatten(),\n",
    "            nn.Linear(in_features=512, out_features=4096),\n",
    "            nn.ReLU(),\n",
    "            nn.Linear(in_features=4096, out_features=4096),\n",
    "            nn.ReLU(),\n",
    "            nn.Linear(in_features=4096, out_features=output_shape)\n",
    "            )\n",
    "    def forward(self, x):\n",
    "        x = self.vgg_block(x)\n",
    "        #print(x.shape)\n",
    "        x = self.vgg_classifier(x)\n",
    "        #print(x.shape)\n",
    "        return x"
   ]
  },
  {
   "cell_type": "code",
   "execution_count": 81,
   "metadata": {
    "colab": {
     "base_uri": "https://localhost:8080/"
    },
    "execution": {
     "iopub.execute_input": "2025-03-29T09:48:48.802132Z",
     "iopub.status.busy": "2025-03-29T09:48:48.801842Z",
     "iopub.status.idle": "2025-03-29T09:48:49.089465Z",
     "shell.execute_reply": "2025-03-29T09:48:49.088861Z",
     "shell.execute_reply.started": "2025-03-29T09:48:48.802105Z"
    },
    "id": "jXN--Oi9B24I",
    "outputId": "9ab1e718-1abf-4975-d613-ec19c64cdd5c",
    "trusted": true
   },
   "outputs": [
    {
     "data": {
      "text/plain": [
       "=================================================================\n",
       "Layer (type:depth-idx)                   Param #\n",
       "=================================================================\n",
       "vgg16                                    --\n",
       "├─Sequential: 1-1                        --\n",
       "│    └─Conv2d: 2-1                       1,792\n",
       "│    └─ReLU: 2-2                         --\n",
       "│    └─Conv2d: 2-3                       36,928\n",
       "│    └─ReLU: 2-4                         --\n",
       "│    └─MaxPool2d: 2-5                    --\n",
       "│    └─Conv2d: 2-6                       73,856\n",
       "│    └─ReLU: 2-7                         --\n",
       "│    └─Conv2d: 2-8                       147,584\n",
       "│    └─ReLU: 2-9                         --\n",
       "│    └─MaxPool2d: 2-10                   --\n",
       "│    └─Conv2d: 2-11                      295,168\n",
       "│    └─ReLU: 2-12                        --\n",
       "│    └─Conv2d: 2-13                      590,080\n",
       "│    └─ReLU: 2-14                        --\n",
       "│    └─Conv2d: 2-15                      590,080\n",
       "│    └─ReLU: 2-16                        --\n",
       "│    └─MaxPool2d: 2-17                   --\n",
       "│    └─Conv2d: 2-18                      1,180,160\n",
       "│    └─ReLU: 2-19                        --\n",
       "│    └─Conv2d: 2-20                      2,359,808\n",
       "│    └─ReLU: 2-21                        --\n",
       "│    └─Conv2d: 2-22                      2,359,808\n",
       "│    └─ReLU: 2-23                        --\n",
       "│    └─MaxPool2d: 2-24                   --\n",
       "│    └─Conv2d: 2-25                      2,359,808\n",
       "│    └─ReLU: 2-26                        --\n",
       "│    └─Conv2d: 2-27                      2,359,808\n",
       "│    └─ReLU: 2-28                        --\n",
       "│    └─Conv2d: 2-29                      2,359,808\n",
       "│    └─ReLU: 2-30                        --\n",
       "│    └─MaxPool2d: 2-31                   --\n",
       "├─Sequential: 1-2                        --\n",
       "│    └─Dropout: 2-32                     --\n",
       "│    └─Flatten: 2-33                     --\n",
       "│    └─Linear: 2-34                      2,101,248\n",
       "│    └─ReLU: 2-35                        --\n",
       "│    └─Linear: 2-36                      16,781,312\n",
       "│    └─ReLU: 2-37                        --\n",
       "│    └─Linear: 2-38                      40,970\n",
       "=================================================================\n",
       "Total params: 33,638,218\n",
       "Trainable params: 33,638,218\n",
       "Non-trainable params: 0\n",
       "================================================================="
      ]
     },
     "execution_count": 81,
     "metadata": {},
     "output_type": "execute_result"
    }
   ],
   "source": [
    "vggmodel = vgg16(3, num_classes).to(device)\n",
    "\n",
    "summary(vggmodel)\n"
   ]
  },
  {
   "cell_type": "code",
   "execution_count": 82,
   "metadata": {
    "colab": {
     "base_uri": "https://localhost:8080/"
    },
    "execution": {
     "iopub.execute_input": "2025-03-29T09:48:49.091923Z",
     "iopub.status.busy": "2025-03-29T09:48:49.091672Z",
     "iopub.status.idle": "2025-03-29T09:48:49.318844Z",
     "shell.execute_reply": "2025-03-29T09:48:49.318001Z",
     "shell.execute_reply.started": "2025-03-29T09:48:49.091891Z"
    },
    "id": "a2qZhJy1B24J",
    "outputId": "99444632-bea4-4619-f70b-acdfaff6e92f",
    "trusted": true
   },
   "outputs": [
    {
     "data": {
      "text/plain": [
       "torch.Size([64, 3, 32, 32])"
      ]
     },
     "execution_count": 82,
     "metadata": {},
     "output_type": "execute_result"
    }
   ],
   "source": [
    "dummy_img, label = next(iter(train_dataloader)) # need shape[B, C, H, Ws]\n",
    "dummy_img.shape"
   ]
  },
  {
   "cell_type": "code",
   "execution_count": 83,
   "metadata": {
    "colab": {
     "base_uri": "https://localhost:8080/"
    },
    "execution": {
     "iopub.execute_input": "2025-03-29T09:48:49.320514Z",
     "iopub.status.busy": "2025-03-29T09:48:49.320272Z",
     "iopub.status.idle": "2025-03-29T09:48:49.655168Z",
     "shell.execute_reply": "2025-03-29T09:48:49.654501Z",
     "shell.execute_reply.started": "2025-03-29T09:48:49.320485Z"
    },
    "id": "7TlcTEdPB24J",
    "outputId": "60246da7-552f-47d8-9c1f-478ab634ab5e",
    "trusted": true
   },
   "outputs": [
    {
     "data": {
      "text/plain": [
       "tensor([[ 1.3978e-02, -9.1175e-04,  3.4524e-03,  4.2594e-03, -1.6110e-02,\n",
       "         -8.7649e-03, -3.6237e-03,  7.4589e-03, -4.0535e-03,  8.6255e-03],\n",
       "        [ 1.4956e-02, -2.3116e-03,  5.1636e-03,  4.1929e-03, -1.5437e-02,\n",
       "         -5.9776e-03, -4.4413e-03,  1.0441e-02, -3.4667e-03,  7.8545e-03],\n",
       "        [ 1.7612e-02, -4.8002e-05,  3.3749e-03,  4.2137e-03, -1.5501e-02,\n",
       "         -8.4214e-03, -3.8210e-03,  9.7402e-03, -3.5846e-03,  7.3002e-03],\n",
       "        [ 1.7299e-02, -5.2130e-04,  3.0149e-03,  5.6885e-03, -1.5455e-02,\n",
       "         -8.4719e-03, -4.9071e-03,  8.4290e-03, -3.3439e-03,  7.9338e-03],\n",
       "        [ 1.4826e-02,  9.6649e-05,  3.2822e-03,  3.5652e-03, -1.5077e-02,\n",
       "         -6.9136e-03, -4.0733e-03,  9.0735e-03, -2.7707e-03,  7.8918e-03],\n",
       "        [ 1.4579e-02, -2.2424e-04,  4.8084e-03,  4.2948e-03, -1.5291e-02,\n",
       "         -6.5051e-03, -5.7605e-03,  9.0164e-03, -3.6512e-03,  1.0649e-02],\n",
       "        [ 1.5839e-02,  7.4120e-04,  5.4284e-03,  3.6138e-03, -1.5597e-02,\n",
       "         -6.8893e-03, -4.0073e-03,  8.7338e-03, -2.2408e-03,  7.5925e-03],\n",
       "        [ 1.6931e-02,  1.2071e-03,  3.9246e-03,  3.1364e-03, -1.5534e-02,\n",
       "         -7.6911e-03, -4.5935e-03,  8.3911e-03, -1.9555e-03,  8.5590e-03],\n",
       "        [ 1.5211e-02, -2.8734e-04,  4.3318e-03,  4.0767e-03, -1.7389e-02,\n",
       "         -7.7761e-03, -3.9869e-03,  8.2138e-03, -2.7788e-03,  9.7189e-03],\n",
       "        [ 1.5903e-02,  1.0534e-03,  4.9389e-03,  4.6708e-03, -1.4083e-02,\n",
       "         -6.9415e-03, -3.4976e-03,  6.6431e-03, -2.8096e-03,  7.6748e-03],\n",
       "        [ 1.6589e-02,  3.1133e-04,  4.7685e-03,  4.8565e-03, -1.4868e-02,\n",
       "         -5.4789e-03, -4.1187e-03,  8.6511e-03, -1.8127e-03,  8.4508e-03],\n",
       "        [ 1.5579e-02,  6.2871e-04,  4.0400e-03,  4.4172e-03, -1.5119e-02,\n",
       "         -7.8747e-03, -5.2236e-03,  8.3035e-03, -1.8554e-03,  8.9202e-03],\n",
       "        [ 1.6223e-02,  5.7838e-04,  5.1024e-03,  3.6849e-03, -1.4917e-02,\n",
       "         -6.3647e-03, -3.5667e-03,  7.1039e-03, -3.6141e-03,  8.1768e-03],\n",
       "        [ 1.6176e-02, -8.1929e-04,  3.0481e-03,  4.2252e-03, -1.4779e-02,\n",
       "         -6.3338e-03, -4.3070e-03,  8.3819e-03, -2.2463e-03,  9.9082e-03],\n",
       "        [ 1.4845e-02,  9.5571e-04,  5.0025e-03,  3.5007e-03, -1.5100e-02,\n",
       "         -6.9146e-03, -5.0989e-03,  8.9624e-03, -3.3316e-03,  8.5360e-03],\n",
       "        [ 1.6244e-02,  1.0257e-03,  4.5177e-03,  3.9058e-03, -1.4942e-02,\n",
       "         -7.3474e-03, -4.2763e-03,  8.9687e-03, -1.8460e-03,  8.0768e-03],\n",
       "        [ 1.5237e-02,  1.5483e-03,  5.9910e-03,  2.4580e-03, -1.4303e-02,\n",
       "         -7.1797e-03, -5.1860e-03,  8.6522e-03, -2.4097e-03,  7.8316e-03],\n",
       "        [ 1.5749e-02, -6.8167e-05,  4.3980e-03,  3.1376e-03, -1.3464e-02,\n",
       "         -6.6878e-03, -2.8077e-03,  8.3409e-03, -1.5766e-03,  8.2123e-03],\n",
       "        [ 1.5906e-02,  1.2795e-03,  5.5157e-03,  4.4062e-03, -1.5201e-02,\n",
       "         -7.5679e-03, -4.8333e-03,  9.4098e-03, -2.3443e-03,  6.8877e-03],\n",
       "        [ 1.7299e-02, -3.4718e-04,  4.7383e-03,  4.2990e-03, -1.5548e-02,\n",
       "         -7.5196e-03, -6.1026e-03,  9.3945e-03, -3.6633e-03,  8.6983e-03],\n",
       "        [ 1.5434e-02,  1.0383e-03,  3.7995e-03,  2.3149e-03, -1.5837e-02,\n",
       "         -6.3612e-03, -5.2486e-03,  8.3164e-03, -3.1835e-03,  8.6362e-03],\n",
       "        [ 1.7162e-02, -3.3810e-05,  5.8404e-03,  4.8362e-03, -1.4033e-02,\n",
       "         -7.6114e-03, -3.8374e-03,  9.5392e-03, -2.9234e-03,  8.0325e-03],\n",
       "        [ 1.4190e-02,  1.7053e-03,  3.9542e-03,  2.9586e-03, -1.5454e-02,\n",
       "         -4.7249e-03, -4.2069e-03,  9.3608e-03, -2.9559e-03,  7.4722e-03],\n",
       "        [ 1.5011e-02,  1.0678e-03,  3.5376e-03,  5.4146e-03, -1.4823e-02,\n",
       "         -6.9184e-03, -4.8921e-03,  1.0053e-02, -2.2803e-03,  7.2440e-03],\n",
       "        [ 1.6633e-02,  9.3189e-04,  4.1024e-03,  4.5309e-03, -1.5797e-02,\n",
       "         -7.1962e-03, -4.9782e-03,  9.8526e-03, -2.7693e-03,  1.0002e-02],\n",
       "        [ 1.4875e-02,  3.1668e-04,  4.7743e-03,  5.0872e-03, -1.5682e-02,\n",
       "         -5.8013e-03, -6.1656e-03,  8.6292e-03, -3.9558e-03,  5.3466e-03],\n",
       "        [ 1.4546e-02,  5.5945e-04,  5.4535e-03,  4.7118e-03, -1.3861e-02,\n",
       "         -6.6507e-03, -5.2646e-03,  9.2799e-03, -2.3972e-03,  7.4152e-03],\n",
       "        [ 1.6042e-02, -7.7044e-04,  4.1341e-03,  3.9893e-03, -1.5660e-02,\n",
       "         -6.7088e-03, -2.9656e-03,  9.5420e-03, -3.2072e-03,  8.8350e-03],\n",
       "        [ 1.5337e-02,  1.2064e-03,  3.7528e-03,  5.9661e-03, -1.4275e-02,\n",
       "         -5.2657e-03, -5.3071e-03,  8.9921e-03, -3.5071e-03,  7.9799e-03],\n",
       "        [ 1.6658e-02,  1.7082e-03,  3.6695e-03,  4.7150e-03, -1.4366e-02,\n",
       "         -8.3372e-03, -4.0226e-03,  8.4077e-03, -2.7581e-03,  9.0317e-03],\n",
       "        [ 1.7481e-02,  2.8368e-04,  2.6256e-03,  5.2963e-03, -1.5765e-02,\n",
       "         -8.5849e-03, -5.2638e-03,  1.0776e-02, -3.2218e-03,  6.8698e-03],\n",
       "        [ 1.5944e-02,  7.8073e-04,  5.1525e-03,  3.3787e-03, -1.4680e-02,\n",
       "         -8.0952e-03, -3.7872e-03,  9.4295e-03, -3.5690e-03,  8.3550e-03],\n",
       "        [ 1.6045e-02,  8.6188e-04,  1.5523e-03,  3.4970e-03, -1.3520e-02,\n",
       "         -6.8248e-03, -4.6254e-03,  8.2746e-03, -2.7631e-03,  8.4138e-03],\n",
       "        [ 1.6740e-02,  9.8575e-04,  4.9350e-03,  5.5744e-03, -1.5025e-02,\n",
       "         -8.1465e-03, -5.3738e-03,  9.8336e-03, -3.7460e-03,  9.2677e-03],\n",
       "        [ 1.5748e-02,  1.1117e-03,  5.8493e-03,  4.1620e-03, -1.5988e-02,\n",
       "         -5.6702e-03, -3.0324e-03,  9.1012e-03, -2.7856e-03,  8.2282e-03],\n",
       "        [ 1.5610e-02,  1.3336e-04,  6.1572e-03,  5.5105e-03, -1.4968e-02,\n",
       "         -6.7218e-03, -4.2598e-03,  8.8858e-03, -2.7550e-03,  9.1129e-03],\n",
       "        [ 1.4835e-02, -3.8438e-04,  4.1249e-03,  3.7685e-03, -1.5839e-02,\n",
       "         -6.6321e-03, -3.9392e-03,  8.0227e-03, -2.8604e-03,  8.9438e-03],\n",
       "        [ 1.5494e-02,  2.4040e-04,  4.2031e-03,  4.0712e-03, -1.5455e-02,\n",
       "         -7.9197e-03, -4.9094e-03,  8.9007e-03, -2.8426e-03,  7.3323e-03],\n",
       "        [ 1.6570e-02, -5.0994e-04,  3.8257e-03,  5.5481e-03, -1.4442e-02,\n",
       "         -7.7681e-03, -4.6499e-03,  8.4842e-03, -3.2957e-03,  7.5284e-03],\n",
       "        [ 1.7717e-02,  2.9128e-04,  3.3378e-03,  4.1145e-03, -1.5644e-02,\n",
       "         -8.2463e-03, -4.6212e-03,  7.5251e-03, -2.3560e-03,  8.8708e-03],\n",
       "        [ 1.6874e-02, -2.0191e-04,  4.9215e-03,  4.5058e-03, -1.4332e-02,\n",
       "         -6.9170e-03, -4.1564e-03,  8.8522e-03, -1.7588e-03,  8.2820e-03],\n",
       "        [ 1.6045e-02, -2.3338e-03,  3.7280e-03,  4.0810e-03, -1.5142e-02,\n",
       "         -7.0608e-03, -3.3135e-03,  9.9863e-03, -4.6885e-03,  9.6646e-03],\n",
       "        [ 1.6145e-02,  5.3250e-04,  3.8189e-03,  5.2630e-03, -1.5460e-02,\n",
       "         -7.4642e-03, -5.4985e-03,  8.3020e-03, -3.7730e-03,  7.0863e-03],\n",
       "        [ 1.5329e-02,  4.1639e-04,  4.1005e-03,  4.7086e-03, -1.3807e-02,\n",
       "         -8.6601e-03, -4.1846e-03,  9.1778e-03, -2.7311e-03,  8.8034e-03],\n",
       "        [ 1.6281e-02, -3.0408e-04,  4.9726e-03,  4.5355e-03, -1.5897e-02,\n",
       "         -6.3521e-03, -5.2135e-03,  8.7589e-03, -3.9298e-03,  7.7877e-03],\n",
       "        [ 1.6102e-02,  1.4784e-04,  5.5140e-03,  4.4742e-03, -1.6245e-02,\n",
       "         -7.0012e-03, -4.4809e-03,  1.0990e-02, -2.5745e-03,  7.1993e-03],\n",
       "        [ 1.6363e-02,  1.4753e-03,  3.3673e-03,  5.1658e-03, -1.4532e-02,\n",
       "         -5.9862e-03, -4.9083e-03,  9.2014e-03, -3.3283e-03,  8.5816e-03],\n",
       "        [ 1.5433e-02,  3.3988e-04,  1.9720e-03,  3.8493e-03, -1.5358e-02,\n",
       "         -7.3027e-03, -4.8157e-03,  1.0125e-02, -3.1459e-03,  7.5919e-03],\n",
       "        [ 1.6073e-02,  1.3368e-03,  4.9004e-03,  3.6933e-03, -1.4812e-02,\n",
       "         -6.3152e-03, -3.9498e-03,  9.7732e-03, -2.0826e-03,  7.5768e-03],\n",
       "        [ 1.5643e-02, -5.6883e-04,  4.5212e-03,  4.3426e-03, -1.4664e-02,\n",
       "         -5.9773e-03, -4.0619e-03,  8.9620e-03, -3.0023e-03,  8.8769e-03],\n",
       "        [ 1.7230e-02,  1.1453e-03,  2.8804e-03,  4.2606e-03, -1.4431e-02,\n",
       "         -7.0165e-03, -2.7592e-03,  9.5467e-03, -3.1303e-03,  7.8235e-03],\n",
       "        [ 1.7029e-02,  8.2485e-04,  4.7102e-03,  4.1264e-03, -1.4682e-02,\n",
       "         -6.5562e-03, -4.4518e-03,  8.7381e-03, -2.9377e-03,  8.5957e-03],\n",
       "        [ 1.4626e-02,  4.3912e-04,  5.6196e-03,  4.3992e-03, -1.4812e-02,\n",
       "         -5.6916e-03, -3.6616e-03,  8.8703e-03, -2.6104e-03,  8.0646e-03],\n",
       "        [ 1.6098e-02, -5.7369e-04,  4.8820e-03,  5.3572e-03, -1.4473e-02,\n",
       "         -8.8563e-03, -3.6735e-03,  7.7531e-03, -2.2625e-03,  8.9086e-03],\n",
       "        [ 1.4590e-02,  3.2505e-04,  4.0648e-03,  4.8736e-03, -1.3860e-02,\n",
       "         -4.5664e-03, -5.0848e-03,  1.1142e-02, -2.0939e-03,  7.2220e-03],\n",
       "        [ 1.6604e-02,  1.1378e-03,  2.8023e-03,  3.6563e-03, -1.4384e-02,\n",
       "         -6.6019e-03, -4.9986e-03,  7.3710e-03, -2.5436e-03,  9.2881e-03],\n",
       "        [ 1.4757e-02,  7.5559e-04,  4.4031e-03,  5.1104e-03, -1.4523e-02,\n",
       "         -5.5298e-03, -3.8707e-03,  7.1434e-03, -3.5163e-03,  9.7714e-03],\n",
       "        [ 1.6522e-02,  7.9737e-04,  4.7082e-03,  3.8063e-03, -1.5308e-02,\n",
       "         -7.8909e-03, -3.4030e-03,  9.5771e-03, -3.4508e-03,  7.7831e-03],\n",
       "        [ 1.5255e-02, -2.5357e-04,  4.8041e-03,  2.5666e-03, -1.4795e-02,\n",
       "         -6.8970e-03, -5.1952e-03,  8.4899e-03, -3.0870e-03,  9.4989e-03],\n",
       "        [ 1.6756e-02,  3.9185e-04,  6.0213e-03,  4.3567e-03, -1.4841e-02,\n",
       "         -6.6525e-03, -4.0611e-03,  8.0518e-03, -4.8483e-03,  7.8379e-03],\n",
       "        [ 1.7291e-02, -4.6343e-04,  4.1781e-03,  4.4946e-03, -1.5643e-02,\n",
       "         -6.1650e-03, -4.4496e-03,  1.0084e-02, -3.5757e-03,  7.2392e-03],\n",
       "        [ 1.4291e-02, -9.2613e-04,  4.5771e-03,  3.1959e-03, -1.4295e-02,\n",
       "         -7.3682e-03, -4.4123e-03,  1.0151e-02, -1.2824e-03,  9.3688e-03],\n",
       "        [ 1.6814e-02,  2.5250e-04,  5.1106e-03,  4.7197e-03, -1.5552e-02,\n",
       "         -8.1519e-03, -4.4929e-03,  1.1061e-02, -2.1919e-03,  7.8375e-03],\n",
       "        [ 1.5670e-02,  3.9106e-04,  4.7569e-03,  4.0577e-03, -1.4448e-02,\n",
       "         -7.6746e-03, -4.9195e-03,  9.0601e-03, -2.7583e-03,  7.9075e-03]],\n",
       "       device='cuda:0', grad_fn=<AddmmBackward0>)"
      ]
     },
     "execution_count": 83,
     "metadata": {},
     "output_type": "execute_result"
    }
   ],
   "source": [
    "\n",
    "vggmodel(dummy_img.to(device))"
   ]
  },
  {
   "cell_type": "code",
   "execution_count": 84,
   "metadata": {
    "execution": {
     "iopub.execute_input": "2025-03-29T09:48:49.656167Z",
     "iopub.status.busy": "2025-03-29T09:48:49.655898Z",
     "iopub.status.idle": "2025-03-29T09:48:49.661396Z",
     "shell.execute_reply": "2025-03-29T09:48:49.660550Z",
     "shell.execute_reply.started": "2025-03-29T09:48:49.656135Z"
    },
    "id": "GvR4wt3KB24J",
    "trusted": true
   },
   "outputs": [],
   "source": [
    "# train func\n",
    "def train_step(model, dataloader, loss_fn, optimizer, device):\n",
    "    model.train()\n",
    "    train_loss, train_acc = 0, 0\n",
    "    for batch, (X, y) in enumerate(dataloader):\n",
    "        X, y = X.to(device), y.to(device)\n",
    "        # forward\n",
    "        y_logits = model(X)\n",
    "        #print(f'output shape: {y_logits.shape}')\n",
    "\n",
    "        # loss and accuracy\n",
    "        loss = loss_fn(y_logits, y)\n",
    "        train_loss += loss.item()\n",
    "        y_label = y_logits.argmax(dim=1)\n",
    "        accuracy = (y_label == y).sum().item() / len(y)\n",
    "        train_acc += accuracy\n",
    "\n",
    "        # zero grad\n",
    "        optimizer.zero_grad()\n",
    "\n",
    "        # backpropagation\n",
    "        loss.backward()\n",
    "\n",
    "        # gd\n",
    "        optimizer.step()\n",
    "\n",
    "    train_loss /= len(dataloader)\n",
    "    train_acc /= len(dataloader)\n",
    "\n",
    "    return train_loss, train_acc\n",
    "\n"
   ]
  },
  {
   "cell_type": "code",
   "execution_count": 85,
   "metadata": {
    "execution": {
     "iopub.execute_input": "2025-03-29T09:48:49.662328Z",
     "iopub.status.busy": "2025-03-29T09:48:49.662045Z",
     "iopub.status.idle": "2025-03-29T09:48:49.682464Z",
     "shell.execute_reply": "2025-03-29T09:48:49.681822Z",
     "shell.execute_reply.started": "2025-03-29T09:48:49.662307Z"
    },
    "id": "A980lFyUB24J",
    "trusted": true
   },
   "outputs": [],
   "source": [
    "# test func\n",
    "def test_step(model, dataloader, loss_fn, device):\n",
    "    model.eval()\n",
    "    test_loss, test_acc = 0,0\n",
    "    with torch.inference_mode():\n",
    "        for batch, (X,y) in enumerate(dataloader):\n",
    "            X, y = X.to(device), y.to(device)\n",
    "            # forward\n",
    "            test_logits = model(X)\n",
    "            # loss and acc\n",
    "            loss = loss_fn(test_logits, y)\n",
    "            test_loss += loss.item()\n",
    "\n",
    "            test_label = test_logits.argmax(dim=1)\n",
    "            test_acc += (test_label == y).sum().item() / len(y)\n",
    "\n",
    "        test_loss /= len(dataloader)\n",
    "        test_acc /= len(dataloader)\n",
    "    return test_loss, test_acc"
   ]
  },
  {
   "cell_type": "code",
   "execution_count": 86,
   "metadata": {
    "execution": {
     "iopub.execute_input": "2025-03-29T09:48:49.683442Z",
     "iopub.status.busy": "2025-03-29T09:48:49.683186Z",
     "iopub.status.idle": "2025-03-29T09:48:49.698146Z",
     "shell.execute_reply": "2025-03-29T09:48:49.697507Z",
     "shell.execute_reply.started": "2025-03-29T09:48:49.683422Z"
    },
    "id": "tVhaobdwB24K",
    "trusted": true
   },
   "outputs": [],
   "source": [
    "# train and test\n",
    "def train(model, train_dataloader, test_dataloader, loss_fn, optimizer, epochs,device):\n",
    "    torch.cuda.empty_cache()\n",
    "    results = {\n",
    "        'train_loss': [],\n",
    "        'train_acc': [],\n",
    "        'test_loss': [],\n",
    "        'test_acc': []\n",
    "    }\n",
    "    for epoch in tqdm(range(epochs)):\n",
    "        \n",
    "        train_loss, train_acc = train_step(model, train_dataloader, loss_fn, optimizer, device)\n",
    "\n",
    "        test_loss, test_acc = test_step(model, test_dataloader, loss_fn, device)\n",
    "\n",
    "        results['train_loss'].append(train_loss)\n",
    "        results['train_acc'].append(train_acc)\n",
    "        results['test_loss'].append(test_loss)\n",
    "        results['test_acc'].append(test_acc)\n",
    "\n",
    "        #if epoch%5==0:\n",
    "        print(f'[{epoch+1}/{epochs}] | train loss: {train_loss:.4f}, train acc: {train_acc*100:.2f}% | test loss: {test_loss:.4f}, test acc: {test_acc*100:.2f}%')\n",
    "        torch.cuda.empty_cache()\n",
    "    return results\n",
    "\n"
   ]
  },
  {
   "cell_type": "code",
   "execution_count": 87,
   "metadata": {
    "execution": {
     "iopub.execute_input": "2025-03-29T09:48:49.699227Z",
     "iopub.status.busy": "2025-03-29T09:48:49.698957Z",
     "iopub.status.idle": "2025-03-29T09:48:49.717021Z",
     "shell.execute_reply": "2025-03-29T09:48:49.716324Z",
     "shell.execute_reply.started": "2025-03-29T09:48:49.699203Z"
    },
    "id": "qIovbmbfB24K",
    "trusted": true
   },
   "outputs": [],
   "source": [
    "'''\n",
    "train_data = Subset(train_data, range(1000))\n",
    "test_data = Subset(test_data, range(200))\n",
    "'''\n",
    "train_dataloader = dataloader.DataLoader(train_data, batch_size=BATCH_SIZE, shuffle=True, num_workers=NUM_WORKERS, pin_memory=True)\n",
    "test_dataloader = dataloader.DataLoader(test_data, batch_size=BATCH_SIZE, shuffle=False, num_workers=NUM_WORKERS, pin_memory=True)\n"
   ]
  },
  {
   "cell_type": "code",
   "execution_count": 88,
   "metadata": {
    "colab": {
     "base_uri": "https://localhost:8080/",
     "height": 49,
     "referenced_widgets": [
      "3107af542ee347aabe5581aaab47bffe",
      "7147e274b5eb476cabc8ce95b0b54097",
      "0642ae7a30c749b58fef0ca50bbe5ff6",
      "d8bc00bb4df04651b7db7ab8129d61de",
      "3d7085cf3398442e8da55fe0acc683ad",
      "d1ac1b78fc2c40069987af5f43ad95db",
      "902f2ac245c74e3c9642716f711a2a1f",
      "a92332ce581d4ec68b9ced1d4eb39658",
      "de2f27985deb4421a473a4605753b30a",
      "3e272830f86c49b5937cceaa09a2ffd6",
      "738b9e97dbde4a7ea233603c450a0484"
     ]
    },
    "execution": {
     "iopub.execute_input": "2025-03-29T09:48:49.717981Z",
     "iopub.status.busy": "2025-03-29T09:48:49.717724Z",
     "iopub.status.idle": "2025-03-29T09:59:06.515664Z",
     "shell.execute_reply": "2025-03-29T09:59:06.514510Z",
     "shell.execute_reply.started": "2025-03-29T09:48:49.717950Z"
    },
    "id": "97QoFrIRB24K",
    "outputId": "541d3a13-26d6-4007-fe09-37a0b1cdc617",
    "trusted": true
   },
   "outputs": [
    {
     "data": {
      "application/vnd.jupyter.widget-view+json": {
       "model_id": "4d2c9fdcfb2047daa78a74fa7f99c61d",
       "version_major": 2,
       "version_minor": 0
      },
      "text/plain": [
       "  0%|          | 0/20 [00:00<?, ?it/s]"
      ]
     },
     "metadata": {},
     "output_type": "display_data"
    },
    {
     "name": "stdout",
     "output_type": "stream",
     "text": [
      "[1/20] | train loss: 2.0946, train acc: 16.18% | test loss: 1.8811, test acc: 22.55%\n",
      "[2/20] | train loss: 1.7880, train acc: 26.98% | test loss: 1.6171, test acc: 33.18%\n",
      "[3/20] | train loss: 1.5605, train acc: 37.61% | test loss: 1.4974, test acc: 42.04%\n",
      "[4/20] | train loss: 1.3809, train acc: 47.93% | test loss: 1.4040, test acc: 48.52%\n",
      "[5/20] | train loss: 1.2043, train acc: 56.14% | test loss: 1.1923, test acc: 56.87%\n",
      "[6/20] | train loss: 1.0627, train acc: 62.37% | test loss: 1.0910, test acc: 62.54%\n",
      "[7/20] | train loss: 0.9790, train acc: 65.95% | test loss: 0.9804, test acc: 67.15%\n",
      "[8/20] | train loss: 0.8957, train acc: 69.26% | test loss: 0.9754, test acc: 65.86%\n",
      "[9/20] | train loss: 0.8389, train acc: 71.71% | test loss: 0.9330, test acc: 68.92%\n",
      "[10/20] | train loss: 0.7834, train acc: 74.11% | test loss: 0.9528, test acc: 69.29%\n",
      "[11/20] | train loss: 0.7211, train acc: 76.19% | test loss: 0.8864, test acc: 70.99%\n",
      "[12/20] | train loss: 0.6824, train acc: 77.66% | test loss: 0.8766, test acc: 71.95%\n",
      "[13/20] | train loss: 0.6341, train acc: 79.40% | test loss: 0.9177, test acc: 71.70%\n",
      "[14/20] | train loss: 0.6157, train acc: 79.91% | test loss: 0.8315, test acc: 73.01%\n",
      "[15/20] | train loss: 0.5779, train acc: 81.37% | test loss: 0.8290, test acc: 75.17%\n",
      "[16/20] | train loss: 0.5416, train acc: 82.45% | test loss: 0.8384, test acc: 74.64%\n",
      "[17/20] | train loss: 0.5710, train acc: 81.64% | test loss: 0.8329, test acc: 73.87%\n",
      "[18/20] | train loss: 0.4996, train acc: 84.06% | test loss: 0.8322, test acc: 74.58%\n",
      "[19/20] | train loss: 0.4699, train acc: 85.10% | test loss: 0.8153, test acc: 74.54%\n",
      "[20/20] | train loss: 0.4583, train acc: 85.50% | test loss: 0.8799, test acc: 74.65%\n"
     ]
    }
   ],
   "source": [
    "import torchvision.models as models\n",
    "vggmodel = vgg16(3, num_classes).to(device)\n",
    "pre_model = models.vgg16(pretrained=True)\n",
    "vggmodel.load_state_dict(pre_model.state_dict(), strict=False)\n",
    "loss_fn = nn.CrossEntropyLoss()\n",
    "optimizer = torch.optim.Adam(vggmodel.parameters(), lr=0.001)\n",
    "# get result\n",
    "result_dict = train(vggmodel, train_dataloader, test_dataloader, loss_fn, optimizer, epochs=EPOCHS, device=device)\n"
   ]
  },
  {
   "cell_type": "code",
   "execution_count": 89,
   "metadata": {
    "execution": {
     "iopub.execute_input": "2025-03-29T09:59:06.517286Z",
     "iopub.status.busy": "2025-03-29T09:59:06.516893Z",
     "iopub.status.idle": "2025-03-29T09:59:06.936165Z",
     "shell.execute_reply": "2025-03-29T09:59:06.935311Z",
     "shell.execute_reply.started": "2025-03-29T09:59:06.517251Z"
    },
    "trusted": true
   },
   "outputs": [
    {
     "data": {
      "image/png": "[encoded data removed]",
      "text/plain": [
       "<Figure size 1500x500 with 2 Axes>"
      ]
     },
     "metadata": {},
     "output_type": "display_data"
    }
   ],
   "source": [
    "from typing import Dict, List\n",
    "def plot_loss_curve(results: Dict[str, List[float]]):\n",
    "    results = pd.DataFrame(results)\n",
    "    train_loss = results['train_loss']\n",
    "    train_acc = results['train_acc']\n",
    "    test_loss = results['test_loss']\n",
    "    test_acc = results['test_acc']\n",
    "    plt.figure(figsize=(15,5))\n",
    "    epoch = range(len(results))\n",
    "    plt.subplot(1,2,1)\n",
    "    plt.plot(epoch, train_loss, label='train loss')\n",
    "    plt.plot(epoch, test_loss, label='test loss')\n",
    "    plt.title('Loss')\n",
    "    plt.xlabel('epoch')\n",
    "    plt.legend()\n",
    "\n",
    "    plt.subplot(1,2,2)\n",
    "    plt.plot(epoch, train_acc, label='train accuracy')\n",
    "    plt.plot(epoch, test_acc, label='test accuracy')\n",
    "    plt.title('Accuracy')\n",
    "    plt.xlabel('epoch')\n",
    "    plt.legend()\n",
    "\n",
    "plot_loss_curve(result_dict)"
   ]
  },
  {
   "cell_type": "code",
   "execution_count": null,
   "metadata": {
    "execution": {
     "iopub.execute_input": "2025-03-29T10:03:14.504104Z",
     "iopub.status.busy": "2025-03-29T10:03:14.503719Z",
     "iopub.status.idle": "2025-03-29T10:03:14.743111Z",
     "shell.execute_reply": "2025-03-29T10:03:14.742181Z",
     "shell.execute_reply.started": "2025-03-29T10:03:14.504074Z"
    },
    "trusted": true
   },
   "outputs": [
    {
     "name": "stdout",
     "output_type": "stream",
     "text": [
      "save model to models/vgg16model.pth\n"
     ]
    }
   ],
   "source": [
    "from pathlib import Path\n",
    "path_name = Path('models')\n",
    "path_name.mkdir(parents=True, exist_ok=True)\n",
    "\n",
    "model_name = 'vgg16model.pth'\n",
    "model_path = path_name / model_name\n",
    "print(f'save model to {model_path}')\n",
    "torch.save(obj=vggmodel.state_dict(), f=model_path)"
   ]
  }
 ],
 "metadata": {
  "accelerator": "GPU",
  "colab": {
   "gpuType": "T4",
   "provenance": []
  },
  "kaggle": {
   "accelerator": "nvidiaTeslaT4",
   "dataSources": [],
   "dockerImageVersionId": 30919,
   "isGpuEnabled": true,
   "isInternetEnabled": true,
   "language": "python",
   "sourceType": "notebook"
  },
  "kernelspec": {
   "display_name": "Python 3",
   "language": "python",
   "name": "python3"
  },
  "language_info": {
   "codemirror_mode": {
    "name": "ipython",
    "version": 3
   },
   "file_extension": ".py",
   "mimetype": "text/x-python",
   "name": "python",
   "nbconvert_exporter": "python",
   "pygments_lexer": "ipython3",
   "version": "3.10.12"
  },
  "widgets": {
   "application/vnd.jupyter.widget-state+json": {
    "0642ae7a30c749b58fef0ca50bbe5ff6": {
     "model_module": "@jupyter-widgets/controls",
     "model_module_version": "1.5.0",
     "model_name": "FloatProgressModel",
     "state": {
      "_dom_classes": [],
      "_model_module": "@jupyter-widgets/controls",
      "_model_module_version": "1.5.0",
      "_model_name": "FloatProgressModel",
      "_view_count": null,
      "_view_module": "@jupyter-widgets/controls",
      "_view_module_version": "1.5.0",
      "_view_name": "ProgressView",
      "bar_style": "",
      "description": "",
      "description_tooltip": null,
      "layout": "IPY_MODEL_a92332ce581d4ec68b9ced1d4eb39658",
      "max": 5,
      "min": 0,
      "orientation": "horizontal",
      "style": "IPY_MODEL_de2f27985deb4421a473a4605753b30a",
      "value": 0
     }
    },
    "3107af542ee347aabe5581aaab47bffe": {
     "model_module": "@jupyter-widgets/controls",
     "model_module_version": "1.5.0",
     "model_name": "HBoxModel",
     "state": {
      "_dom_classes": [],
      "_model_module": "@jupyter-widgets/controls",
      "_model_module_version": "1.5.0",
      "_model_name": "HBoxModel",
      "_view_count": null,
      "_view_module": "@jupyter-widgets/controls",
      "_view_module_version": "1.5.0",
      "_view_name": "HBoxView",
      "box_style": "",
      "children": [
       "IPY_MODEL_7147e274b5eb476cabc8ce95b0b54097",
       "IPY_MODEL_0642ae7a30c749b58fef0ca50bbe5ff6",
       "IPY_MODEL_d8bc00bb4df04651b7db7ab8129d61de"
      ],
      "layout": "IPY_MODEL_3d7085cf3398442e8da55fe0acc683ad"
     }
    },
    "3d7085cf3398442e8da55fe0acc683ad": {
     "model_module": "@jupyter-widgets/base",
     "model_module_version": "1.2.0",
     "model_name": "LayoutModel",
     "state": {
      "_model_module": "@jupyter-widgets/base",
      "_model_module_version": "1.2.0",
      "_model_name": "LayoutModel",
      "_view_count": null,
      "_view_module": "@jupyter-widgets/base",
      "_view_module_version": "1.2.0",
      "_view_name": "LayoutView",
      "align_content": null,
      "align_items": null,
      "align_self": null,
      "border": null,
      "bottom": null,
      "display": null,
      "flex": null,
      "flex_flow": null,
      "grid_area": null,
      "grid_auto_columns": null,
      "grid_auto_flow": null,
      "grid_auto_rows": null,
      "grid_column": null,
      "grid_gap": null,
      "grid_row": null,
      "grid_template_areas": null,
      "grid_template_columns": null,
      "grid_template_rows": null,
      "height": null,
      "justify_content": null,
      "justify_items": null,
      "left": null,
      "margin": null,
      "max_height": null,
      "max_width": null,
      "min_height": null,
      "min_width": null,
      "object_fit": null,
      "object_position": null,
      "order": null,
      "overflow": null,
      "overflow_x": null,
      "overflow_y": null,
      "padding": null,
      "right": null,
      "top": null,
      "visibility": null,
      "width": null
     }
    },
    "3e272830f86c49b5937cceaa09a2ffd6": {
     "model_module": "@jupyter-widgets/base",
     "model_module_version": "1.2.0",
     "model_name": "LayoutModel",
     "state": {
      "_model_module": "@jupyter-widgets/base",
      "_model_module_version": "1.2.0",
      "_model_name": "LayoutModel",
      "_view_count": null,
      "_view_module": "@jupyter-widgets/base",
      "_view_module_version": "1.2.0",
      "_view_name": "LayoutView",
      "align_content": null,
      "align_items": null,
      "align_self": null,
      "border": null,
      "bottom": null,
      "display": null,
      "flex": null,
      "flex_flow": null,
      "grid_area": null,
      "grid_auto_columns": null,
      "grid_auto_flow": null,
      "grid_auto_rows": null,
      "grid_column": null,
      "grid_gap": null,
      "grid_row": null,
      "grid_template_areas": null,
      "grid_template_columns": null,
      "grid_template_rows": null,
      "height": null,
      "justify_content": null,
      "justify_items": null,
      "left": null,
      "margin": null,
      "max_height": null,
      "max_width": null,
      "min_height": null,
      "min_width": null,
      "object_fit": null,
      "object_position": null,
      "order": null,
      "overflow": null,
      "overflow_x": null,
      "overflow_y": null,
      "padding": null,
      "right": null,
      "top": null,
      "visibility": null,
      "width": null
     }
    },
    "7147e274b5eb476cabc8ce95b0b54097": {
     "model_module": "@jupyter-widgets/controls",
     "model_module_version": "1.5.0",
     "model_name": "HTMLModel",
     "state": {
      "_dom_classes": [],
      "_model_module": "@jupyter-widgets/controls",
      "_model_module_version": "1.5.0",
      "_model_name": "HTMLModel",
      "_view_count": null,
      "_view_module": "@jupyter-widgets/controls",
      "_view_module_version": "1.5.0",
      "_view_name": "HTMLView",
      "description": "",
      "description_tooltip": null,
      "layout": "IPY_MODEL_d1ac1b78fc2c40069987af5f43ad95db",
      "placeholder": "​",
      "style": "IPY_MODEL_902f2ac245c74e3c9642716f711a2a1f",
      "value": "  0%"
     }
    },
    "738b9e97dbde4a7ea233603c450a0484": {
     "model_module": "@jupyter-widgets/controls",
     "model_module_version": "1.5.0",
     "model_name": "DescriptionStyleModel",
     "state": {
      "_model_module": "@jupyter-widgets/controls",
      "_model_module_version": "1.5.0",
      "_model_name": "DescriptionStyleModel",
      "_view_count": null,
      "_view_module": "@jupyter-widgets/base",
      "_view_module_version": "1.2.0",
      "_view_name": "StyleView",
      "description_width": ""
     }
    },
    "902f2ac245c74e3c9642716f711a2a1f": {
     "model_module": "@jupyter-widgets/controls",
     "model_module_version": "1.5.0",
     "model_name": "DescriptionStyleModel",
     "state": {
      "_model_module": "@jupyter-widgets/controls",
      "_model_module_version": "1.5.0",
      "_model_name": "DescriptionStyleModel",
      "_view_count": null,
      "_view_module": "@jupyter-widgets/base",
      "_view_module_version": "1.2.0",
      "_view_name": "StyleView",
      "description_width": ""
     }
    },
    "a92332ce581d4ec68b9ced1d4eb39658": {
     "model_module": "@jupyter-widgets/base",
     "model_module_version": "1.2.0",
     "model_name": "LayoutModel",
     "state": {
      "_model_module": "@jupyter-widgets/base",
      "_model_module_version": "1.2.0",
      "_model_name": "LayoutModel",
      "_view_count": null,
      "_view_module": "@jupyter-widgets/base",
      "_view_module_version": "1.2.0",
      "_view_name": "LayoutView",
      "align_content": null,
      "align_items": null,
      "align_self": null,
      "border": null,
      "bottom": null,
      "display": null,
      "flex": null,
      "flex_flow": null,
      "grid_area": null,
      "grid_auto_columns": null,
      "grid_auto_flow": null,
      "grid_auto_rows": null,
      "grid_column": null,
      "grid_gap": null,
      "grid_row": null,
      "grid_template_areas": null,
      "grid_template_columns": null,
      "grid_template_rows": null,
      "height": null,
      "justify_content": null,
      "justify_items": null,
      "left": null,
      "margin": null,
      "max_height": null,
      "max_width": null,
      "min_height": null,
      "min_width": null,
      "object_fit": null,
      "object_position": null,
      "order": null,
      "overflow": null,
      "overflow_x": null,
      "overflow_y": null,
      "padding": null,
      "right": null,
      "top": null,
      "visibility": null,
      "width": null
     }
    },
    "d1ac1b78fc2c40069987af5f43ad95db": {
     "model_module": "@jupyter-widgets/base",
     "model_module_version": "1.2.0",
     "model_name": "LayoutModel",
     "state": {
      "_model_module": "@jupyter-widgets/base",
      "_model_module_version": "1.2.0",
      "_model_name": "LayoutModel",
      "_view_count": null,
      "_view_module": "@jupyter-widgets/base",
      "_view_module_version": "1.2.0",
      "_view_name": "LayoutView",
      "align_content": null,
      "align_items": null,
      "align_self": null,
      "border": null,
      "bottom": null,
      "display": null,
      "flex": null,
      "flex_flow": null,
      "grid_area": null,
      "grid_auto_columns": null,
      "grid_auto_flow": null,
      "grid_auto_rows": null,
      "grid_column": null,
      "grid_gap": null,
      "grid_row": null,
      "grid_template_areas": null,
      "grid_template_columns": null,
      "grid_template_rows": null,
      "height": null,
      "justify_content": null,
      "justify_items": null,
      "left": null,
      "margin": null,
      "max_height": null,
      "max_width": null,
      "min_height": null,
      "min_width": null,
      "object_fit": null,
      "object_position": null,
      "order": null,
      "overflow": null,
      "overflow_x": null,
      "overflow_y": null,
      "padding": null,
      "right": null,
      "top": null,
      "visibility": null,
      "width": null
     }
    },
    "d8bc00bb4df04651b7db7ab8129d61de": {
     "model_module": "@jupyter-widgets/controls",
     "model_module_version": "1.5.0",
     "model_name": "HTMLModel",
     "state": {
      "_dom_classes": [],
      "_model_module": "@jupyter-widgets/controls",
      "_model_module_version": "1.5.0",
      "_model_name": "HTMLModel",
      "_view_count": null,
      "_view_module": "@jupyter-widgets/controls",
      "_view_module_version": "1.5.0",
      "_view_name": "HTMLView",
      "description": "",
      "description_tooltip": null,
      "layout": "IPY_MODEL_3e272830f86c49b5937cceaa09a2ffd6",
      "placeholder": "​",
      "style": "IPY_MODEL_738b9e97dbde4a7ea233603c450a0484",
      "value": " 0/5 [00:00&lt;?, ?it/s]"
     }
    },
    "de2f27985deb4421a473a4605753b30a": {
     "model_module": "@jupyter-widgets/controls",
     "model_module_version": "1.5.0",
     "model_name": "ProgressStyleModel",
     "state": {
      "_model_module": "@jupyter-widgets/controls",
      "_model_module_version": "1.5.0",
      "_model_name": "ProgressStyleModel",
      "_view_count": null,
      "_view_module": "@jupyter-widgets/base",
      "_view_module_version": "1.2.0",
      "_view_name": "StyleView",
      "bar_color": null,
      "description_width": ""
     }
    }
   }
  }
 },
 "nbformat": 4,
 "nbformat_minor": 4
}
